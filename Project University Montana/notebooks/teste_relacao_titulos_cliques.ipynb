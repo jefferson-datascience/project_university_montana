{
 "cells": [
  {
   "cell_type": "markdown",
   "id": "95d793cd",
   "metadata": {
    "ExecuteTime": {
     "end_time": "2022-12-13T13:16:21.942547Z",
     "start_time": "2022-12-13T13:16:21.921639Z"
    },
    "heading_collapsed": true
   },
   "source": [
    "# 0.0 - Imports"
   ]
  },
  {
   "cell_type": "code",
   "execution_count": 18,
   "id": "389d72cc",
   "metadata": {
    "ExecuteTime": {
     "end_time": "2023-01-04T15:56:45.632165Z",
     "start_time": "2023-01-04T15:56:45.194337Z"
    },
    "hidden": true
   },
   "outputs": [],
   "source": [
    "# Bibliotecas\n",
    "import pandas  as pd\n",
    "import numpy   as np\n",
    "import seaborn as sns\n",
    "\n",
    "from statsmodels.sandbox.stats.multicomp import multipletests\n",
    "from itertools                           import combinations\n",
    "from statsmodels.stats                   import gof, power, proportion\n",
    "from scipy                               import stats"
   ]
  },
  {
   "cell_type": "markdown",
   "id": "13524bb0",
   "metadata": {
    "ExecuteTime": {
     "end_time": "2022-12-13T13:18:16.641328Z",
     "start_time": "2022-12-13T13:18:16.626366Z"
    },
    "heading_collapsed": true,
    "hidden": true
   },
   "source": [
    "## 0.1 Carregamento dos Dados"
   ]
  },
  {
   "cell_type": "code",
   "execution_count": 4,
   "id": "14b41622",
   "metadata": {
    "ExecuteTime": {
     "end_time": "2023-01-04T12:13:35.357555Z",
     "start_time": "2023-01-04T12:13:35.066368Z"
    },
    "hidden": true
   },
   "outputs": [
    {
     "data": {
      "text/html": [
       "<div>\n",
       "<style scoped>\n",
       "    .dataframe tbody tr th:only-of-type {\n",
       "        vertical-align: middle;\n",
       "    }\n",
       "\n",
       "    .dataframe tbody tr th {\n",
       "        vertical-align: top;\n",
       "    }\n",
       "\n",
       "    .dataframe thead th {\n",
       "        text-align: right;\n",
       "    }\n",
       "</style>\n",
       "<table border=\"1\" class=\"dataframe\">\n",
       "  <thead>\n",
       "    <tr style=\"text-align: right;\">\n",
       "      <th></th>\n",
       "      <th>page_variant_button</th>\n",
       "      <th>visitantes</th>\n",
       "      <th>clicks</th>\n",
       "      <th>clicks_button</th>\n",
       "    </tr>\n",
       "  </thead>\n",
       "  <tbody>\n",
       "    <tr>\n",
       "      <th>0</th>\n",
       "      <td>interact</td>\n",
       "      <td>10283</td>\n",
       "      <td>3714</td>\n",
       "      <td>42</td>\n",
       "    </tr>\n",
       "    <tr>\n",
       "      <th>1</th>\n",
       "      <td>connect</td>\n",
       "      <td>2742</td>\n",
       "      <td>1587</td>\n",
       "      <td>53</td>\n",
       "    </tr>\n",
       "    <tr>\n",
       "      <th>2</th>\n",
       "      <td>learn</td>\n",
       "      <td>2747</td>\n",
       "      <td>1652</td>\n",
       "      <td>21</td>\n",
       "    </tr>\n",
       "    <tr>\n",
       "      <th>3</th>\n",
       "      <td>help</td>\n",
       "      <td>3180</td>\n",
       "      <td>1717</td>\n",
       "      <td>38</td>\n",
       "    </tr>\n",
       "    <tr>\n",
       "      <th>4</th>\n",
       "      <td>services</td>\n",
       "      <td>2064</td>\n",
       "      <td>1348</td>\n",
       "      <td>45</td>\n",
       "    </tr>\n",
       "  </tbody>\n",
       "</table>\n",
       "</div>"
      ],
      "text/plain": [
       "  page_variant_button  visitantes  clicks  clicks_button\n",
       "0            interact       10283    3714             42\n",
       "1             connect        2742    1587             53\n",
       "2               learn        2747    1652             21\n",
       "3                help        3180    1717             38\n",
       "4            services        2064    1348             45"
      ]
     },
     "execution_count": 4,
     "metadata": {},
     "output_type": "execute_result"
    }
   ],
   "source": [
    "# Armazenamento dos Dados\n",
    "dataframe = {'page_variant_button': ['interact', 'connect', 'learn', 'help', 'services'], \n",
    "             'visitantes': [10283, 2742, 2747, 3180, 2064],\n",
    "             'clicks':[3714, 1587, 1652, 1717, 1348],\n",
    "             'clicks_button': [42, 53, 21, 38, 45]}\n",
    "\n",
    "# Armazenamento dos Dados em um DataFrame\n",
    "df_raw = pd.DataFrame(dataframe)\n",
    "\n",
    "# Exibição dos dados\n",
    "df_raw.head()"
   ]
  },
  {
   "cell_type": "markdown",
   "id": "02178a09",
   "metadata": {
    "ExecuteTime": {
     "end_time": "2022-12-13T13:16:40.582416Z",
     "start_time": "2022-12-13T13:16:40.567456Z"
    },
    "heading_collapsed": true
   },
   "source": [
    "# 1.0 - Escolha do Método"
   ]
  },
  {
   "cell_type": "markdown",
   "id": "b2002085",
   "metadata": {
    "hidden": true
   },
   "source": [
    "Para o problema que nos foi designado, nós vamos utilizar o teste A/B/C/D para responder a questão de negócio da Universidade de Montana. Então vamos iniciar a estruturação do nosso problema."
   ]
  },
  {
   "cell_type": "markdown",
   "id": "3389bf0d",
   "metadata": {
    "hidden": true
   },
   "source": [
    "**Qual o objetivo do teste?**\n",
    "\n",
    "- O objetivo do nosso experimento é verificar qual dos botões que a o time TI da universidade proporcionou é mais atrativo, isto é, possui uma maior taxa de clique. No caso, são 4 botões: Connect, Lean, Help e Service.\n",
    "\n",
    "**Qual o tipo dos dados?**\n",
    "\n",
    "- Primeiramente, queremos verificar se há alguma diferença entre as taxas de conversões de cliques dos botões fornecidos pelo time de TI e os dados que nós temos disponíveis são discretos.\n",
    "\n",
    "**Qual a quantidade de dados?**\n",
    "\n",
    "- São mais de 5 dados.\n",
    "\n",
    "**Qual o foco do teste?**\n",
    "\n",
    "- O foco do teste é verificar se existe uma relação entre o nome do botão e a quantidade de cliques sobre esse botão.\n",
    "\n",
    "**Quantos grupos fazem parte do teste?**\n",
    "\n",
    "- São 4 grupos que faze parte do teste.\n",
    "\n",
    "**Qual Inferência utilizar?**\n",
    "\n",
    "- Vamos usar o teste de independência chi-quadrado."
   ]
  },
  {
   "cell_type": "markdown",
   "id": "ee0bf8c1",
   "metadata": {
    "ExecuteTime": {
     "end_time": "2022-12-13T13:16:52.873115Z",
     "start_time": "2022-12-13T13:16:52.865135Z"
    }
   },
   "source": [
    "# 2.0 - Design de Experimento"
   ]
  },
  {
   "cell_type": "markdown",
   "id": "eefb782f",
   "metadata": {},
   "source": [
    "## 2.1 - Formulação das Hipóteses "
   ]
  },
  {
   "cell_type": "markdown",
   "id": "efd903ac",
   "metadata": {},
   "source": [
    "**Determinação da Métrica:** Quantidade de Clicks na página.\n",
    "\n",
    "**Hipótese Nula:** Não há uma relação entre os títulos dos botões e os cliques.\n",
    "\n",
    "**Hipótese Alternativa:** Há uma relação entre os títulos dos botões e os cliques."
   ]
  },
  {
   "cell_type": "markdown",
   "id": "fb0ffdbb",
   "metadata": {
    "ExecuteTime": {
     "end_time": "2022-12-13T14:14:51.479064Z",
     "start_time": "2022-12-13T14:14:51.460884Z"
    },
    "heading_collapsed": true
   },
   "source": [
    "## 2.2 - Parâmetros para o Tamanho da Amostra "
   ]
  },
  {
   "cell_type": "code",
   "execution_count": 5,
   "id": "f50d1979",
   "metadata": {
    "ExecuteTime": {
     "end_time": "2023-01-04T13:45:55.432122Z",
     "start_time": "2023-01-04T13:45:55.397940Z"
    },
    "hidden": true
   },
   "outputs": [],
   "source": [
    "# Nível de Confiança\n",
    "nivel_confianca = 0.95\n",
    "\n",
    "# Nível de Significância\n",
    "nivel_significancia = 1 - nivel_confianca\n",
    "\n",
    "# Poder Estatístico\n",
    "power_stats = 0.80"
   ]
  },
  {
   "cell_type": "markdown",
   "id": "bb355bb0",
   "metadata": {
    "ExecuteTime": {
     "end_time": "2022-12-13T13:17:11.125695Z",
     "start_time": "2022-12-13T13:17:11.112731Z"
    },
    "heading_collapsed": true
   },
   "source": [
    "# 3.0 - Preparação e Coleta dos Dados de Amostragem\n"
   ]
  },
  {
   "cell_type": "code",
   "execution_count": 8,
   "id": "84cb893d",
   "metadata": {
    "ExecuteTime": {
     "end_time": "2023-01-04T13:52:59.623358Z",
     "start_time": "2023-01-04T13:52:59.595157Z"
    },
    "hidden": true
   },
   "outputs": [
    {
     "data": {
      "text/html": [
       "<div>\n",
       "<style scoped>\n",
       "    .dataframe tbody tr th:only-of-type {\n",
       "        vertical-align: middle;\n",
       "    }\n",
       "\n",
       "    .dataframe tbody tr th {\n",
       "        vertical-align: top;\n",
       "    }\n",
       "\n",
       "    .dataframe thead th {\n",
       "        text-align: right;\n",
       "    }\n",
       "</style>\n",
       "<table border=\"1\" class=\"dataframe\">\n",
       "  <thead>\n",
       "    <tr style=\"text-align: right;\">\n",
       "      <th></th>\n",
       "      <th>clicks_button</th>\n",
       "      <th>no_clicks_button</th>\n",
       "    </tr>\n",
       "    <tr>\n",
       "      <th>page_variant_button</th>\n",
       "      <th></th>\n",
       "      <th></th>\n",
       "    </tr>\n",
       "  </thead>\n",
       "  <tbody>\n",
       "    <tr>\n",
       "      <th>interact</th>\n",
       "      <td>42</td>\n",
       "      <td>3672</td>\n",
       "    </tr>\n",
       "    <tr>\n",
       "      <th>connect</th>\n",
       "      <td>53</td>\n",
       "      <td>1534</td>\n",
       "    </tr>\n",
       "    <tr>\n",
       "      <th>learn</th>\n",
       "      <td>21</td>\n",
       "      <td>1631</td>\n",
       "    </tr>\n",
       "    <tr>\n",
       "      <th>help</th>\n",
       "      <td>38</td>\n",
       "      <td>1679</td>\n",
       "    </tr>\n",
       "    <tr>\n",
       "      <th>services</th>\n",
       "      <td>45</td>\n",
       "      <td>1303</td>\n",
       "    </tr>\n",
       "  </tbody>\n",
       "</table>\n",
       "</div>"
      ],
      "text/plain": [
       "                     clicks_button  no_clicks_button\n",
       "page_variant_button                                 \n",
       "interact                        42              3672\n",
       "connect                         53              1534\n",
       "learn                           21              1631\n",
       "help                            38              1679\n",
       "services                        45              1303"
      ]
     },
     "execution_count": 8,
     "metadata": {},
     "output_type": "execute_result"
    }
   ],
   "source": [
    "# Criação da tabela de contigência\n",
    "df_raw['no_clicks_button'] = df_raw['clicks'] - df_raw['clicks_button']\n",
    "\n",
    "# Extraindo somente os dados necessários\n",
    "table_contingency = df_raw[['page_variant_button', 'clicks_button', 'no_clicks_button']].copy()\n",
    "\n",
    "# Reajuste de Index\n",
    "table_contingency = table_contingency.set_index('page_variant_button')\n",
    "\n",
    "# Exibição da Tabela de Contigência\n",
    "table_contingency"
   ]
  },
  {
   "cell_type": "markdown",
   "id": "ce437954",
   "metadata": {
    "ExecuteTime": {
     "end_time": "2022-12-13T13:17:26.173734Z",
     "start_time": "2022-12-13T13:17:26.161769Z"
    },
    "heading_collapsed": true
   },
   "source": [
    "# 4.0 - Teste de Hipótese"
   ]
  },
  {
   "cell_type": "code",
   "execution_count": 13,
   "id": "fd603585",
   "metadata": {
    "ExecuteTime": {
     "end_time": "2023-01-04T13:57:08.810353Z",
     "start_time": "2023-01-04T13:57:08.799386Z"
    },
    "hidden": true
   },
   "outputs": [
    {
     "name": "stdout",
     "output_type": "stream",
     "text": [
      "Chi-Quadrado: 46.33660181942126\n",
      "P-Valor: 2.0959498129984567e-09\n",
      "Concluímos que há uma relação entre os botões e os cliques.\n"
     ]
    }
   ],
   "source": [
    "# Realizando a Inferência Estatística\n",
    "chi2, p_value, dof, ex = stats.chi2_contingency(np.array(table_contingency))\n",
    "\n",
    "# Resultados\n",
    "print('Chi-Quadrado: {}'.format(chi2))\n",
    "print('P-Valor: {}'.format(p_value))\n",
    "\n",
    "if p_value < 0.05:\n",
    "    print('Concluímos que há uma relação entre os botões e os cliques.')\n",
    "else:\n",
    "    print('Concluímos que não há uma relação entre os botões e os cliques.')"
   ]
  },
  {
   "cell_type": "markdown",
   "id": "299f166e",
   "metadata": {
    "hidden": true
   },
   "source": [
    "## 4.1 - Post-Hoc"
   ]
  },
  {
   "cell_type": "code",
   "execution_count": 11,
   "id": "a9378ba4",
   "metadata": {
    "ExecuteTime": {
     "end_time": "2023-01-04T13:55:25.773584Z",
     "start_time": "2023-01-04T13:55:25.491310Z"
    },
    "hidden": true,
    "scrolled": false
   },
   "outputs": [
    {
     "name": "stdout",
     "output_type": "stream",
     "text": [
      "=========================================\n",
      "Combinação: ('interact', 'connect')\n",
      "P-valor: 5.3676772349808135e-08\n",
      "P-valor corrigido: 5.367677234980813e-07\n",
      "Rejeição da Hipótese Nula: True\n",
      "=========================================\n",
      "Combinação: ('interact', 'learn')\n",
      "P-valor: 0.7616980743361713\n",
      "P-valor corrigido: 1.0\n",
      "Rejeição da Hipótese Nula: False\n",
      "=========================================\n",
      "Combinação: ('interact', 'help')\n",
      "P-valor: 0.0031030587017400212\n",
      "P-valor corrigido: 0.03103058701740021\n",
      "Rejeição da Hipótese Nula: True\n",
      "=========================================\n",
      "Combinação: ('interact', 'services')\n",
      "P-valor: 1.798089447385411e-07\n",
      "P-valor corrigido: 1.7980894473854111e-06\n",
      "Rejeição da Hipótese Nula: True\n",
      "=========================================\n",
      "Combinação: ('connect', 'learn')\n",
      "P-valor: 0.00013292868361715983\n",
      "P-valor corrigido: 0.0013292868361715984\n",
      "Rejeição da Hipótese Nula: True\n",
      "=========================================\n",
      "Combinação: ('connect', 'help')\n",
      "P-valor: 0.06144184057612575\n",
      "P-valor corrigido: 0.6144184057612575\n",
      "Rejeição da Hipótese Nula: False\n",
      "=========================================\n",
      "Combinação: ('connect', 'services')\n",
      "P-valor: 1.0\n",
      "P-valor corrigido: 1.0\n",
      "Rejeição da Hipótese Nula: False\n",
      "=========================================\n",
      "Combinação: ('learn', 'help')\n",
      "P-valor: 0.0508958228881819\n",
      "P-valor corrigido: 0.5089582288818191\n",
      "Rejeição da Hipótese Nula: False\n",
      "=========================================\n",
      "Combinação: ('learn', 'services')\n",
      "P-valor: 0.00020374035733741825\n",
      "P-valor corrigido: 0.0020374035733741825\n",
      "Rejeição da Hipótese Nula: True\n",
      "=========================================\n",
      "Combinação: ('help', 'services')\n",
      "P-valor: 0.07301998638337415\n",
      "P-valor corrigido: 0.7301998638337415\n",
      "Rejeição da Hipótese Nula: False\n"
     ]
    }
   ],
   "source": [
    "# Vamos realizar a combinação dois a dois de todas as possibilidades.\n",
    "all_combinations = list(combinations(table_contingency.index, 2))\n",
    "\n",
    "# lista vazia para armazenar os p_values\n",
    "p_value_list = list()\n",
    "\n",
    "for combination in all_combinations:\n",
    "    \n",
    "    # Obtendo a tabela de contigencia com os dados de dois a dois.\n",
    "    new_df = table_contingency[(table_contingency.index == combination[0]) | (table_contingency.index == combination[1])]\n",
    "    \n",
    "    # Calculando o p_valor\n",
    "    chi2, p_value, dof, ex = stats.chi2_contingency(new_df)\n",
    "    \n",
    "    # Armazenando os p_valores\n",
    "    p_value_list.append(p_value)\n",
    "    \n",
    "# correção dos p_valores por Bonferroni\n",
    "reject_list, p_value_correct = multipletests(p_value_list, method='Bonferroni')[:2]\n",
    "\n",
    "# Exibição dos Resultados\n",
    "\n",
    "for combination, p_value, p_value_correct, reject in zip(all_combinations, p_value_list, p_value_correct, reject_list):\n",
    "    \n",
    "    print('=========================================')\n",
    "    print('Combinação: {}'.format(combination))\n",
    "    print('P-valor: {}'.format(p_value))\n",
    "    print('P-valor corrigido: {}'.format(p_value_correct))\n",
    "    print('Rejeição da Hipótese Nula: {}'.format(reject))\n"
   ]
  },
  {
   "cell_type": "markdown",
   "id": "eb4a14b5",
   "metadata": {
    "ExecuteTime": {
     "end_time": "2022-12-20T10:38:39.996175Z",
     "start_time": "2022-12-20T10:38:39.985291Z"
    },
    "hidden": true
   },
   "source": [
    "### Relatório - Hipótese Nula Rejeitada"
   ]
  },
  {
   "cell_type": "raw",
   "id": "66f2eb76",
   "metadata": {
    "hidden": true
   },
   "source": [
    "Combinação: ('interact', 'connect') -> P-valor corrigido: 5.367677234980813e-07;  Rejeição da Hipótese Nula: True\n",
    "Combinação: ('interact', 'help')    -> P-valor corrigido: 0.03103058701740021;    Rejeição da Hipótese Nula: True\n",
    "Combinação: ('interact', 'services')-> P-valor corrigido: 1.7980894473854111e-06; Rejeição da Hipótese Nula: True\n",
    "\n",
    "\n",
    "\n",
    "Combinação: ('connect', 'help')     -> P-valor corrigido: 0.6144184057612575; Rejeição da Hipótese Nula: False\n",
    "Combinação: ('connect', 'services') -> P-valor corrigido: 1.0;                Rejeição da Hipótese Nula: False\n",
    "Combinação: ('help', 'services')    -> P-valor corrigido: 0.7301998638337415; Rejeição da Hipótese Nula: False"
   ]
  },
  {
   "cell_type": "markdown",
   "id": "c7998482",
   "metadata": {
    "heading_collapsed": true
   },
   "source": [
    "# 5.0 - Conclusões"
   ]
  },
  {
   "cell_type": "markdown",
   "id": "6f28f265",
   "metadata": {
    "hidden": true
   },
   "source": [
    "Ao realizar o teste chi-quadrado de independência, concluímos que ao comparar o botão \"Interact\" com o botão \"Connect\", \"Help\" e \"Services\", existe um relação entre os cliques no botão e os títulos, isto é, podemos dizer que o título de um desses botões tem um impacto na taxa de cliques. \n",
    "\n",
    "Com essas informações, precisamos saber se algum desses botões são melhores que o Interact. Para isso, será necessário realizar um teste que nos permita realizar a comparação da proporção de taxas entre as duas páginas. Logo, será realizado um novo design de experimento em outro documento para ficar organizado. \n",
    "\n",
    "Será realizado o teste dois a dois dos seguintes botões:\n",
    "\n",
    "1. Botão Interact com o botão Connect.\n",
    "2. Botão Interact com o botão Help.\n",
    "3. Botão Interact com o botão Services.\n",
    "\n",
    "Feito esses testes, poderemos concluir com clareza qual é o melhor botão."
   ]
  }
 ],
 "metadata": {
  "kernelspec": {
   "display_name": "Python 3 (ipykernel)",
   "language": "python",
   "name": "python3"
  },
  "language_info": {
   "codemirror_mode": {
    "name": "ipython",
    "version": 3
   },
   "file_extension": ".py",
   "mimetype": "text/x-python",
   "name": "python",
   "nbconvert_exporter": "python",
   "pygments_lexer": "ipython3",
   "version": "3.8.0"
  }
 },
 "nbformat": 4,
 "nbformat_minor": 5
}
