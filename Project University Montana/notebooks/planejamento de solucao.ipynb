{
 "cells": [
  {
   "cell_type": "markdown",
   "id": "2bf902fd",
   "metadata": {},
   "source": [
    "## Planejamento de Solução(IoT)"
   ]
  },
  {
   "cell_type": "markdown",
   "id": "c0fc14e5",
   "metadata": {},
   "source": [
    "### Entrada (Input)"
   ]
  },
  {
   "cell_type": "markdown",
   "id": "5171c24c",
   "metadata": {},
   "source": [
    "#### Problema de Negócio"
   ]
  },
  {
   "cell_type": "markdown",
   "id": "23d0f86d",
   "metadata": {},
   "source": [
    "A Universidade de Montana, nos Estados Unidos, possui vários serviços de apoio ao aluno, incluido a biblioteca.\n",
    "\n",
    "A biblioteca da universidade oferece vários serviços para os estudantes como alocação de salas de estudo, livros, computadores, discussões em grupo, webnários e etc. Todos esses serviços e vários outros ficam disponíveis dentro da página web da prórpia biblioteca e os alunos podem acessá-las para agendar algum dos serviços disponíveis.\n",
    "\n",
    "A página possui um banner da universidade, uma barra de busca, três principais categorias de acesso e uma barra lateral direita que exibi as últimas notícias.\n",
    "\n",
    "Durante o período de 3 de Abril de 2013 até 10 de Abril de 2013, a página \"home\" da biblioteca recebeu 10.819 visitantes. Ao analisar os dados de acesso da página, o time de TI da Universidade percebeu uma grande diferença entre os acessos das categorias das páginas. A taxa de click da \"Find\" foi de 35%, \"Request\" foi de 6% e \"Interact foi de 2%.\n",
    "\n",
    "Olhando para as taxas de click, o time de TI se perguntou o motivo da conversão da categoria \"Interact\" estar tão baixa.\n",
    "\n",
    "Uma das hipóteses do time de TI foi de que o nome \"Interact\" está confundindo os alunos, pois não deixa claro o propósito daquela categoria. Assim, novos nomes foram propostos para substituir o nome da atual categoria: \"Connect\", \"Lean\", \"Help\" e \"Service\".\n",
    "\n",
    "Com as variações do nome da categoria, um teste A/B/n precisa ser definido para validar qual das variações deixa a categoria mais compreensível e atraente para os estudantes, com a expectatica de aumentar a taxa de clicks nessa categoria.\n",
    "\n",
    "Assim, um teste A/B/n foi realizado durante 3 semanas, entre os dias 29 de Maio de 2013 e 18 de Junho de 2013. O experimento foi desenhado para garantir que um usuário pudesse acessar qualquer uma das variações com a mesma probabilidade."
   ]
  },
  {
   "cell_type": "markdown",
   "id": "49812d32",
   "metadata": {},
   "source": [
    "#### Questão de Negócio"
   ]
  },
  {
   "cell_type": "markdown",
   "id": "a0789552",
   "metadata": {},
   "source": [
    "1. Alguma das conversões é realmente melhor do que a atual? Qual seria o nome da variação?"
   ]
  },
  {
   "cell_type": "markdown",
   "id": "b1471317",
   "metadata": {
    "heading_collapsed": true
   },
   "source": [
    "#### Fonte de Dados"
   ]
  },
  {
   "cell_type": "markdown",
   "id": "9893d357",
   "metadata": {
    "heading_collapsed": true
   },
   "source": [
    "### Saída (Output)"
   ]
  },
  {
   "cell_type": "markdown",
   "id": "3b81724f",
   "metadata": {
    "hidden": true
   },
   "source": [
    "* Relatório com a recomendação de qual botão tem mais engajamento.\n",
    "* Um gráfico para explicitar o desempenho dos botões."
   ]
  },
  {
   "cell_type": "markdown",
   "id": "6fcc353b",
   "metadata": {
    "heading_collapsed": true
   },
   "source": [
    "### Tarefas (Task)"
   ]
  },
  {
   "cell_type": "markdown",
   "id": "238f6c85",
   "metadata": {
    "hidden": true
   },
   "source": [
    "#### 1. Alguma das conversões é realmente melhor do que a atual? Qual seria o nome da variação?"
   ]
  },
  {
   "cell_type": "markdown",
   "id": "bcdbdadc",
   "metadata": {
    "hidden": true
   },
   "source": [
    "1. **Escolha do Método.**\n",
    "    \n",
    "- Teste de Hipótese.\n",
    "- Tipo de Teste(Teste A/B/n)\n",
    "- Escolha da Inferência:\n",
    "    * Precisa-se determinar o tipo dos dados.\n",
    "    * Precisa-se determinar o objetivo do teste.(Ajuste de Distribuição, Diferença de Proporção, Diferença de Média...).\n",
    "    * Precisa-se saber a quantidade de grupos que estão participando do teste.\n",
    "    * Após determinar as premissas básicas. Verificar se o teste é válido."
   ]
  },
  {
   "cell_type": "markdown",
   "id": "ac713384",
   "metadata": {
    "hidden": true
   },
   "source": [
    "2.  **Design de Experimento.**\n",
    "\n",
    "- Escolha da Métrica.\n",
    "- Formulação das Hipóteses Nula, Alternativa e escolha da característica do teste(unicaudal ou bicaudal).\n",
    "- Determinação do Tamanho da Amostra.\n",
    "- Escolha dos Parâmetros para determinar o tamanho da amostra: Nível de confiança, Nível de Significância, Poder Estatístico, Effect Size.\n",
    "- Determinar o tamanho de amostra de cada grupo.\n",
    "        "
   ]
  },
  {
   "cell_type": "markdown",
   "id": "0251d874",
   "metadata": {
    "hidden": true
   },
   "source": [
    "3. **Preparação e Coleta dos Dados para Amostragem.**\n",
    "  - Descrição dos Dados\n",
    "      - Dimensão dos Dados: Quantidade de Linhas e Colunas.\n",
    "      - Renomear nomes das colunas.\n",
    "      - Checagem de NA's.\n",
    "      - Caso tenha valores NA's, trate eles.\n",
    "      - Tipagem dos Dados\n",
    "  - Preparação dos Dados\n",
    "      - Verificar a Duplicidade de Flags, caso tenha, trate elas.\n",
    "      - Separação dos grupos de controle e tratamento.\n",
    "  - Coleta da Amostragem\n",
    "      - Coleta de Dados.\n",
    "      - Cálculo da Taxa de Conversão."
   ]
  },
  {
   "cell_type": "markdown",
   "id": "a948d03d",
   "metadata": {
    "hidden": true
   },
   "source": [
    "4. **Testando a Hipótese.**\n",
    "\n",
    "- Realização da Inferência para o cálculo do p-valor.\n",
    "- Realizar o Post-Hoc, caso necessário.\n",
    " "
   ]
  },
  {
   "cell_type": "markdown",
   "id": "bf930c54",
   "metadata": {
    "hidden": true
   },
   "source": [
    "5. **Tirando as conclusões.**\n",
    "    \n",
    "- Analisar o desempenho do grupo de controle e teste e relatar quais medidas a equipe pode tomar.\n",
    "- Responder as questões do CEO."
   ]
  }
 ],
 "metadata": {
  "kernelspec": {
   "display_name": "Python 3 (ipykernel)",
   "language": "python",
   "name": "python3"
  },
  "language_info": {
   "codemirror_mode": {
    "name": "ipython",
    "version": 3
   },
   "file_extension": ".py",
   "mimetype": "text/x-python",
   "name": "python",
   "nbconvert_exporter": "python",
   "pygments_lexer": "ipython3",
   "version": "3.8.0"
  }
 },
 "nbformat": 4,
 "nbformat_minor": 5
}
