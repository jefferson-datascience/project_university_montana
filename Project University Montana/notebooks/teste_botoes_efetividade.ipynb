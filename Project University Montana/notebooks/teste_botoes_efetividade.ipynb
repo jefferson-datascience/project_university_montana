{
 "cells": [
  {
   "cell_type": "markdown",
   "id": "a9c14902",
   "metadata": {},
   "source": [
    "# 0.0 - Imports"
   ]
  },
  {
   "cell_type": "code",
   "execution_count": 10,
   "id": "5dfb0fdd",
   "metadata": {
    "ExecuteTime": {
     "end_time": "2023-01-04T17:32:22.969844Z",
     "start_time": "2023-01-04T17:32:22.884666Z"
    }
   },
   "outputs": [],
   "source": [
    "import pandas as pd\n",
    "import numpy  as np\n",
    "\n",
    "from statsmodels.stats import proportion, power"
   ]
  },
  {
   "cell_type": "markdown",
   "id": "2cc9724c",
   "metadata": {},
   "source": [
    "## 0.1 - Carregamento dos Dados"
   ]
  },
  {
   "cell_type": "code",
   "execution_count": 2,
   "id": "33e8d29c",
   "metadata": {
    "ExecuteTime": {
     "end_time": "2023-01-04T16:39:30.841844Z",
     "start_time": "2023-01-04T16:39:30.810927Z"
    }
   },
   "outputs": [
    {
     "data": {
      "text/html": [
       "<div>\n",
       "<style scoped>\n",
       "    .dataframe tbody tr th:only-of-type {\n",
       "        vertical-align: middle;\n",
       "    }\n",
       "\n",
       "    .dataframe tbody tr th {\n",
       "        vertical-align: top;\n",
       "    }\n",
       "\n",
       "    .dataframe thead th {\n",
       "        text-align: right;\n",
       "    }\n",
       "</style>\n",
       "<table border=\"1\" class=\"dataframe\">\n",
       "  <thead>\n",
       "    <tr style=\"text-align: right;\">\n",
       "      <th></th>\n",
       "      <th>page_variant_button</th>\n",
       "      <th>visitantes</th>\n",
       "      <th>clicks</th>\n",
       "      <th>clicks_button</th>\n",
       "    </tr>\n",
       "  </thead>\n",
       "  <tbody>\n",
       "    <tr>\n",
       "      <th>0</th>\n",
       "      <td>interact</td>\n",
       "      <td>10283</td>\n",
       "      <td>3714</td>\n",
       "      <td>42</td>\n",
       "    </tr>\n",
       "    <tr>\n",
       "      <th>1</th>\n",
       "      <td>connect</td>\n",
       "      <td>2742</td>\n",
       "      <td>1587</td>\n",
       "      <td>53</td>\n",
       "    </tr>\n",
       "    <tr>\n",
       "      <th>2</th>\n",
       "      <td>learn</td>\n",
       "      <td>2747</td>\n",
       "      <td>1652</td>\n",
       "      <td>21</td>\n",
       "    </tr>\n",
       "    <tr>\n",
       "      <th>3</th>\n",
       "      <td>help</td>\n",
       "      <td>3180</td>\n",
       "      <td>1717</td>\n",
       "      <td>38</td>\n",
       "    </tr>\n",
       "    <tr>\n",
       "      <th>4</th>\n",
       "      <td>services</td>\n",
       "      <td>2064</td>\n",
       "      <td>1348</td>\n",
       "      <td>45</td>\n",
       "    </tr>\n",
       "  </tbody>\n",
       "</table>\n",
       "</div>"
      ],
      "text/plain": [
       "  page_variant_button  visitantes  clicks  clicks_button\n",
       "0            interact       10283    3714             42\n",
       "1             connect        2742    1587             53\n",
       "2               learn        2747    1652             21\n",
       "3                help        3180    1717             38\n",
       "4            services        2064    1348             45"
      ]
     },
     "execution_count": 2,
     "metadata": {},
     "output_type": "execute_result"
    }
   ],
   "source": [
    "# Armazenamento dos Dados\n",
    "dataframe = {'page_variant_button': ['interact', 'connect', 'learn', 'help', 'services'], \n",
    "             'visitantes': [10283, 2742, 2747, 3180, 2064],\n",
    "             'clicks':[3714, 1587, 1652, 1717, 1348],\n",
    "             'clicks_button': [42, 53, 21, 38, 45]}\n",
    "\n",
    "# Armazenamento dos Dados em um DataFrame\n",
    "df_raw = pd.DataFrame(dataframe)\n",
    "\n",
    "# Exibição dos dados\n",
    "df_raw.head()"
   ]
  },
  {
   "cell_type": "markdown",
   "id": "9810737a",
   "metadata": {},
   "source": [
    "# 1.0 - Escolha do Método "
   ]
  },
  {
   "cell_type": "markdown",
   "id": "076b2aca",
   "metadata": {},
   "source": [
    "Nesse experimento que estamos realizando, nós queremos saber qual botão, que no caso são \"Connect\", \"Help\" e \"Services\", é melhor que o \"Interact\", uma vez que nós já sabemos que esses botões tem um impacto na taxa de cliques. Assim, vamos realizar o teste dois a dois em relação ao botão interact. Para isso, utilizaremos um teste A/B para validar a efetividade desses botões.\n",
    "\n",
    "\n",
    "**Qual é o objetivo do teste?**\n",
    "\n",
    "- Objetivo deste teste é verificar se taxa de cliques entre os botões \"Connect\", \"Help\" e \"Services\" é melhor em relação ao botão \"Interact\".\n",
    "\n",
    "**Qual é o tipo dos dados?**\n",
    "\n",
    "- Os dados são numéricos.\n",
    "\n",
    "**Qual o foco do teste?**\n",
    "\n",
    "- O foco do teste está em observar um diferença na proporção de cliques em relação aos botões mencionados.\n",
    "\n",
    "**Quantos grupos estarão em cada teste?**\n",
    "\n",
    "- Serão realizados teste de dois a dois, em relação ao botão \"Interact\".\n",
    "\n",
    "**Conclusão de Inferência a ser Utilizada:** Portanto, o teste a ser utilizado nessa situação é o Two-Proportion Z-Test."
   ]
  },
  {
   "cell_type": "markdown",
   "id": "5610ffae",
   "metadata": {},
   "source": [
    "# 2.0 - Design de Experimento"
   ]
  },
  {
   "cell_type": "markdown",
   "id": "158d456b",
   "metadata": {},
   "source": [
    "## 2.1 - Formulação das Hipóteses"
   ]
  },
  {
   "cell_type": "markdown",
   "id": "0b20a92a",
   "metadata": {
    "heading_collapsed": true
   },
   "source": [
    "### Botões \"Connect\" e \"Interact\""
   ]
  },
  {
   "cell_type": "markdown",
   "id": "a0dc6efc",
   "metadata": {
    "hidden": true
   },
   "source": [
    "**Determinação da Métrica:** A taxa de cliques nos botões.\n",
    "\n",
    "**Hipótese Nula:** Não há diferença entre as taxas de cliques do botão \"Interact\" e \"Connect\".\n",
    "\n",
    "**Hipótese Alternatica:** A taxa de cliques do botão \"Connect\" é maior que a do botão \"Interact\"."
   ]
  },
  {
   "cell_type": "markdown",
   "id": "be6ef650",
   "metadata": {
    "heading_collapsed": true
   },
   "source": [
    "### Botões \"Help\" e \"Interact\""
   ]
  },
  {
   "cell_type": "markdown",
   "id": "08f14025",
   "metadata": {
    "hidden": true
   },
   "source": [
    "**Determinação da Métrica:** A taxa de cliques nos botões.\n",
    "\n",
    "**Hipótese Nula:** Não há diferença entre as taxas de cliques do botão \"Interact\" e \"Help\".\n",
    "\n",
    "**Hipótese Alternatica:** A taxa de cliques do botão \"Help\" é maior que a do botão \"Interact\"."
   ]
  },
  {
   "cell_type": "markdown",
   "id": "1f01e012",
   "metadata": {
    "heading_collapsed": true
   },
   "source": [
    "### Botões \"Services\" e \"Interact\""
   ]
  },
  {
   "cell_type": "markdown",
   "id": "30a216ac",
   "metadata": {
    "hidden": true
   },
   "source": [
    "**Determinação da Métrica:** A taxa de cliques nos botões.\n",
    "\n",
    "**Hipótese Nula:** Não há diferença entre as taxas de cliques do botão \"Interact\" e \"Services\".\n",
    "\n",
    "**Hipótese Alternatica:** A taxa de cliques do botão \"Services\" é maior que a do botão \"Interact\"."
   ]
  },
  {
   "cell_type": "markdown",
   "id": "fbb10bd5",
   "metadata": {},
   "source": [
    "## 2.2 - Tamanho da Amostra"
   ]
  },
  {
   "cell_type": "code",
   "execution_count": 15,
   "id": "9603f99b",
   "metadata": {
    "ExecuteTime": {
     "end_time": "2023-01-04T17:37:26.928033Z",
     "start_time": "2023-01-04T17:37:26.909787Z"
    }
   },
   "outputs": [],
   "source": [
    "tabela = df_raw.copy()\n",
    "tabela['ctr'] = df_raw['clicks_button']/df_raw['clicks']"
   ]
  },
  {
   "cell_type": "markdown",
   "id": "af4d25e9",
   "metadata": {
    "heading_collapsed": true
   },
   "source": [
    "###  Botões Connect e Interact"
   ]
  },
  {
   "cell_type": "code",
   "execution_count": 16,
   "id": "c9947679",
   "metadata": {
    "ExecuteTime": {
     "end_time": "2023-01-04T17:37:28.897975Z",
     "start_time": "2023-01-04T17:37:28.872044Z"
    },
    "hidden": true
   },
   "outputs": [
    {
     "name": "stdout",
     "output_type": "stream",
     "text": [
      "O tamanho da amostra tem que ser no mínimo de 519.\n"
     ]
    }
   ],
   "source": [
    "# ---------------------- Determinação dos Parâmetros ----------------------------\n",
    "\n",
    "# nivel de confiança\n",
    "nivel_confianca = 0.95\n",
    "\n",
    "# Nivel de Significância \n",
    "nivel_significancia = 1 - nivel_confianca\n",
    "\n",
    "# poder estatístico\n",
    "power_stats  = 0.80\n",
    "\n",
    "\n",
    "# -------------------- Tamanho do efeito ----------------------------\n",
    "\n",
    "# Tomando as proporções de cada página\n",
    "prop_control   = tabela.loc[0, 'ctr']\n",
    "prop_treatment = tabela.loc[1, 'ctr']\n",
    "\n",
    "# Calculando o effect size\n",
    "effect_size = proportion.proportion_effectsize(prop_control, prop_treatment)\n",
    "\n",
    "\n",
    "# -------------------- Tamanho da amostra ----------------------------\n",
    "\n",
    "# Calculando o tamanho da amostra.\n",
    "sample_size = power.zt_ind_solve_power(effect_size=effect_size, \n",
    "                                       alpha=nivel_significancia, \n",
    "                                       power=power_stats, \n",
    "                                       alternative='smaller')\n",
    "\n",
    "# exibição\n",
    "print(f'O tamanho da amostra tem que ser no mínimo de {int(np.ceil(sample_size))}.')"
   ]
  },
  {
   "cell_type": "markdown",
   "id": "05461422",
   "metadata": {
    "heading_collapsed": true
   },
   "source": [
    "###  Botões Help e Interact"
   ]
  },
  {
   "cell_type": "code",
   "execution_count": 21,
   "id": "93a39abe",
   "metadata": {
    "ExecuteTime": {
     "end_time": "2023-01-04T17:38:00.252105Z",
     "start_time": "2023-01-04T17:38:00.230202Z"
    },
    "hidden": true
   },
   "outputs": [
    {
     "name": "stdout",
     "output_type": "stream",
     "text": [
      "O tamanho da amostra tem que ser no mínimo de 1690.\n"
     ]
    }
   ],
   "source": [
    "# ---------------------- Determinação dos Parâmetros ----------------------------\n",
    "\n",
    "# nivel de confiança\n",
    "nivel_confianca = 0.95\n",
    "\n",
    "# Nivel de Significância \n",
    "nivel_significancia = 1 - nivel_confianca\n",
    "\n",
    "# poder estatístico\n",
    "power_stats  = 0.80\n",
    "\n",
    "\n",
    "# -------------------- Tamanho do efeito ----------------------------\n",
    "\n",
    "# Tomando as proporções de cada página\n",
    "prop_control   = tabela.loc[0, 'ctr']\n",
    "prop_treatment = tabela.loc[3, 'ctr']\n",
    "\n",
    "# Calculando o effect size\n",
    "effect_size = proportion.proportion_effectsize(prop_control, prop_treatment)\n",
    "\n",
    "\n",
    "# -------------------- Tamanho da amostra ----------------------------\n",
    "\n",
    "# Calculando o tamanho da amostra.\n",
    "sample_size = power.zt_ind_solve_power(effect_size=effect_size, \n",
    "                                       alpha=nivel_significancia, \n",
    "                                       power=power_stats, \n",
    "                                       alternative='smaller')\n",
    "\n",
    "# exibição\n",
    "print(f'O tamanho da amostra tem que ser no mínimo de {int(np.ceil(sample_size))}.')"
   ]
  },
  {
   "cell_type": "markdown",
   "id": "b8c900d9",
   "metadata": {
    "heading_collapsed": true
   },
   "source": [
    "###  Botões Services e Interact"
   ]
  },
  {
   "cell_type": "code",
   "execution_count": 22,
   "id": "4886a3b3",
   "metadata": {
    "ExecuteTime": {
     "end_time": "2023-01-04T17:38:00.252105Z",
     "start_time": "2023-01-04T17:38:00.230202Z"
    },
    "hidden": true
   },
   "outputs": [
    {
     "name": "stdout",
     "output_type": "stream",
     "text": [
      "O tamanho da amostra tem que ser no mínimo de 519.\n"
     ]
    }
   ],
   "source": [
    "# ---------------------- Determinação dos Parâmetros ----------------------------\n",
    "\n",
    "# nivel de confiança\n",
    "nivel_confianca = 0.95\n",
    "\n",
    "# Nivel de Significância \n",
    "nivel_significancia = 1 - nivel_confianca\n",
    "\n",
    "# poder estatístico\n",
    "power_stats  = 0.80\n",
    "\n",
    "\n",
    "# -------------------- Tamanho do efeito ----------------------------\n",
    "\n",
    "# Tomando as proporções de cada página\n",
    "prop_control   = tabela.loc[0, 'ctr']\n",
    "prop_treatment = tabela.loc[4, 'ctr']\n",
    "\n",
    "# Calculando o effect size\n",
    "effect_size = proportion.proportion_effectsize(prop_control, prop_treatment)\n",
    "\n",
    "\n",
    "# -------------------- Tamanho da amostra ----------------------------\n",
    "\n",
    "# Calculando o tamanho da amostra.\n",
    "sample_size = power.zt_ind_solve_power(effect_size=effect_size, \n",
    "                                       alpha=nivel_significancia, \n",
    "                                       power=power_stats, \n",
    "                                       alternative='smaller')\n",
    "\n",
    "# exibição\n",
    "print(f'O tamanho da amostra tem que ser no mínimo de {int(np.ceil(sample_size))}.')"
   ]
  },
  {
   "cell_type": "markdown",
   "id": "4fecccf4",
   "metadata": {},
   "source": [
    "# 3.0 - Preparação e Coleta dos Dados "
   ]
  },
  {
   "cell_type": "markdown",
   "id": "9ef6ca6f",
   "metadata": {
    "heading_collapsed": true
   },
   "source": [
    "## Botões Connect e Interact"
   ]
  },
  {
   "cell_type": "code",
   "execution_count": 45,
   "id": "a6413b44",
   "metadata": {
    "ExecuteTime": {
     "end_time": "2023-01-04T17:57:16.753732Z",
     "start_time": "2023-01-04T17:57:16.743759Z"
    },
    "hidden": true
   },
   "outputs": [],
   "source": [
    "# Extraindo os dados necessários\n",
    "tabela_connect_interact = tabela[['clicks_button', 'clicks']].iloc[0:2]\n",
    "\n",
    "# Renomeando as colunas\n",
    "tabela_connect_interact = tabela_connect_interact.rename(columns = {'clicks_button': 'sucesso', 'clicks' : 'observacoes'})"
   ]
  },
  {
   "cell_type": "markdown",
   "id": "1bbbf28c",
   "metadata": {
    "ExecuteTime": {
     "end_time": "2023-01-04T17:51:28.535512Z",
     "start_time": "2023-01-04T17:51:28.526570Z"
    },
    "heading_collapsed": true
   },
   "source": [
    "## Botões Help e Interact"
   ]
  },
  {
   "cell_type": "code",
   "execution_count": 46,
   "id": "eca14367",
   "metadata": {
    "ExecuteTime": {
     "end_time": "2023-01-04T17:57:17.237977Z",
     "start_time": "2023-01-04T17:57:17.223016Z"
    },
    "hidden": true
   },
   "outputs": [],
   "source": [
    "# Extraindo os dados necessários\n",
    "tabela_help_interact = tabela[['clicks_button', 'clicks']].iloc[0:4:3]\n",
    "\n",
    "# Renomeando as colunas\n",
    "tabela_help_interact = tabela_help_interact.rename(columns = {'clicks_button': 'sucesso', 'clicks' : 'observacoes'})"
   ]
  },
  {
   "cell_type": "markdown",
   "id": "837c9e77",
   "metadata": {
    "ExecuteTime": {
     "end_time": "2023-01-04T17:55:51.987378Z",
     "start_time": "2023-01-04T17:55:51.968426Z"
    },
    "code_folding": [],
    "heading_collapsed": true
   },
   "source": [
    "## Botões Services e Interact"
   ]
  },
  {
   "cell_type": "code",
   "execution_count": 47,
   "id": "f6380935",
   "metadata": {
    "ExecuteTime": {
     "end_time": "2023-01-04T17:57:17.946320Z",
     "start_time": "2023-01-04T17:57:17.927403Z"
    },
    "hidden": true
   },
   "outputs": [],
   "source": [
    "# Extraindo os dados necessários\n",
    "tabela_services_interact = tabela[['clicks_button', 'clicks']].iloc[0:5:4]\n",
    "\n",
    "# Renomeando as colunas\n",
    "tabela_services_interact = tabela_services_interact.rename(columns = {'clicks_button': 'sucesso', 'clicks' : 'observacoes'})"
   ]
  },
  {
   "cell_type": "markdown",
   "id": "9ffca0d6",
   "metadata": {},
   "source": [
    "# 4.0 - Teste de Hipótese"
   ]
  },
  {
   "cell_type": "markdown",
   "id": "bd9b1d77",
   "metadata": {
    "heading_collapsed": true
   },
   "source": [
    "## Botões Connect e Interact"
   ]
  },
  {
   "cell_type": "code",
   "execution_count": 58,
   "id": "f0219b61",
   "metadata": {
    "ExecuteTime": {
     "end_time": "2023-01-04T18:13:43.810569Z",
     "start_time": "2023-01-04T18:13:43.799593Z"
    },
    "hidden": true
   },
   "outputs": [
    {
     "name": "stdout",
     "output_type": "stream",
     "text": [
      "P-Valor: 1.4144650329798615e-08.\n",
      "Rejeitamos a hipótese nula. Ou seja, concluímos que o botão connect é melhor que o botão interact\n"
     ]
    }
   ],
   "source": [
    "# Aplicação do Two Proportion Z-Test\n",
    "z_score, p_valor_connect = proportion.proportions_ztest(np.array(tabela_connect_interact['sucesso']), \n",
    "                                                        np.array(tabela_connect_interact['observacoes']),\n",
    "                                                        alternative='smaller') \n",
    "\n",
    "print('P-Valor: {}.'.format(p_valor_connect))\n",
    "if p_valor < 0.05:\n",
    "    print('Rejeitamos a hipótese nula. Ou seja, concluímos que o botão connect é melhor que o botão interact')\n",
    "else:\n",
    "    print('Falhamos em rejeitar a hipótese nula. Isto é, concluímos que não há diferença entre as taxas de cliques dos botões.')"
   ]
  },
  {
   "cell_type": "markdown",
   "id": "a3e111fb",
   "metadata": {
    "heading_collapsed": true
   },
   "source": [
    "## Botões Help e Interact"
   ]
  },
  {
   "cell_type": "code",
   "execution_count": 59,
   "id": "c4e2769b",
   "metadata": {
    "ExecuteTime": {
     "end_time": "2023-01-04T18:13:44.752977Z",
     "start_time": "2023-01-04T18:13:44.732031Z"
    },
    "hidden": true
   },
   "outputs": [
    {
     "name": "stdout",
     "output_type": "stream",
     "text": [
      "P-Valor: 0.0010403625926695664.\n",
      "Rejeitamos a hipótese nula. Ou seja, concluímos que o botão help é melhor que o botão interact\n"
     ]
    }
   ],
   "source": [
    "# Aplicação do Two Proportion Z-Test\n",
    "z_score, p_valor_help = proportion.proportions_ztest(np.array(tabela_help_interact['sucesso']), \n",
    "                                                     np.array(tabela_help_interact['observacoes']),\n",
    "                                                     alternative='smaller') \n",
    "\n",
    "print('P-Valor: {}.'.format(p_valor_help))\n",
    "if p_valor < 0.05:\n",
    "    print('Rejeitamos a hipótese nula. Ou seja, concluímos que o botão help é melhor que o botão interact')\n",
    "else:\n",
    "    print('Falhamos em rejeitar a hipótese nula. Isto é, concluímos que não há diferença entre as taxas de cliques dos botões.')"
   ]
  },
  {
   "cell_type": "markdown",
   "id": "ac4107a5",
   "metadata": {
    "heading_collapsed": true
   },
   "source": [
    "## Botões Services e Interact"
   ]
  },
  {
   "cell_type": "code",
   "execution_count": 60,
   "id": "b1bcd0d2",
   "metadata": {
    "ExecuteTime": {
     "end_time": "2023-01-04T18:13:45.744362Z",
     "start_time": "2023-01-04T18:13:45.731396Z"
    },
    "hidden": true
   },
   "outputs": [
    {
     "name": "stdout",
     "output_type": "stream",
     "text": [
      "P-Valor: 4.611198379025424e-08.\n",
      "Rejeitamos a hipótese nula. Ou seja, concluímos que o botão services é melhor que o botão interact\n"
     ]
    }
   ],
   "source": [
    "# Aplicação do Two Proportion Z-Test\n",
    "z_score, p_valor_services = proportion.proportions_ztest(np.array(tabela_services_interact['sucesso']), \n",
    "                                                         np.array(tabela_services_interact['observacoes']),\n",
    "                                                         alternative='smaller') \n",
    "\n",
    "print('P-Valor: {}.'.format(p_valor_services))\n",
    "if p_valor < 0.05:\n",
    "    print('Rejeitamos a hipótese nula. Ou seja, concluímos que o botão services é melhor que o botão interact')\n",
    "else:\n",
    "    print('Falhamos em rejeitar a hipótese nula. Isto é, concluímos que não há diferença entre as taxas de cliques dos botões.')"
   ]
  },
  {
   "cell_type": "markdown",
   "id": "f7de59f2",
   "metadata": {},
   "source": [
    "# 5.0 - Respondendo as Perguntas de Negócio"
   ]
  },
  {
   "cell_type": "markdown",
   "id": "5a4a35cf",
   "metadata": {
    "ExecuteTime": {
     "end_time": "2023-01-04T18:13:54.207096Z",
     "start_time": "2023-01-04T18:13:54.191140Z"
    }
   },
   "source": [
    "**1. Alguma das conversões é realmente melhor do que a atual? Qual seria o nome da variação?**"
   ]
  },
  {
   "cell_type": "markdown",
   "id": "644724ec",
   "metadata": {},
   "source": [
    "Concluímos que os botões \"Services\", \"Connect\" e \"Help\" são melhores que o botão \"Interact\". Entretanto, quanto menor o p-valor, melhor é a efetividade do botão. Assim, como o menor p-valor é o do botão \"Connect\", nós concluímos que a melhor sugestão de botão, segundo os teste, é o botão \"Connect\". "
   ]
  }
 ],
 "metadata": {
  "kernelspec": {
   "display_name": "Python 3 (ipykernel)",
   "language": "python",
   "name": "python3"
  },
  "language_info": {
   "codemirror_mode": {
    "name": "ipython",
    "version": 3
   },
   "file_extension": ".py",
   "mimetype": "text/x-python",
   "name": "python",
   "nbconvert_exporter": "python",
   "pygments_lexer": "ipython3",
   "version": "3.8.0"
  }
 },
 "nbformat": 4,
 "nbformat_minor": 5
}
